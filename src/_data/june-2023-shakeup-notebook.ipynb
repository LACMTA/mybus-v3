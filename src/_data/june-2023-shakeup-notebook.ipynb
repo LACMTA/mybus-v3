{
 "cells": [
  {
   "cell_type": "code",
   "execution_count": 12,
   "metadata": {},
   "outputs": [],
   "source": [
    "import pandas as pd\n",
    "pd.set_option('display.max_colwidth', None)\n",
    "pd.set_option('display.max_rows', 500)\n",
    "pd.set_option('display.max_columns', 500)\n",
    "pd.set_option('display.width', 150)"
   ]
  },
  {
   "cell_type": "code",
   "execution_count": 13,
   "metadata": {},
   "outputs": [],
   "source": [
    "SOURCE_FILE_LINES = 'june-2023-lines.csv'\n",
    "SOURCE_FILE_UPDATES = 'june-2023-updates.csv'\n",
    "\n",
    "OUTPUT_DIR = '../data/'\n",
    "\n",
    "source_lines_df = pd.read_csv(SOURCE_FILE_LINES)\n",
    "source_updates_df = pd.read_csv(SOURCE_FILE_UPDATES)"
   ]
  },
  {
   "cell_type": "code",
   "execution_count": 14,
   "metadata": {},
   "outputs": [],
   "source": [
    "source_lines_df.to_json(OUTPUT_DIR + 'lines.json', orient='records')\n",
    "source_updates_df.to_json(OUTPUT_DIR + 'changes.json', orient='records')"
   ]
  }
 ],
 "metadata": {
  "kernelspec": {
   "display_name": "Python 3",
   "language": "python",
   "name": "python3"
  },
  "language_info": {
   "codemirror_mode": {
    "name": "ipython",
    "version": 3
   },
   "file_extension": ".py",
   "mimetype": "text/x-python",
   "name": "python",
   "nbconvert_exporter": "python",
   "pygments_lexer": "ipython3",
   "version": "3.10.6"
  },
  "orig_nbformat": 4
 },
 "nbformat": 4,
 "nbformat_minor": 2
}
